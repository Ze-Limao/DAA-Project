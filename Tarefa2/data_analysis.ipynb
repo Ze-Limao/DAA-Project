{
 "cells": [
  {
   "cell_type": "markdown",
   "metadata": {},
   "source": [
    "# Dados e Aprendizagem Automática\n",
    "\n",
    "\n",
    "**Load data from the dataset**"
   ]
  },
  {
   "cell_type": "code",
   "execution_count": 2,
   "metadata": {},
   "outputs": [],
   "source": [
    "import pandas as pd\n",
    "import seaborn as sns\n",
    "import matplotlib.pyplot as plt\n",
    "\n",
    "# Load the data\n",
    "data = pd.read_csv('../datasets/train_radiomics_hipocamp.csv')"
   ]
  },
  {
   "cell_type": "markdown",
   "metadata": {},
   "source": [
    "**Check for missing values**"
   ]
  },
  {
   "cell_type": "code",
   "execution_count": 3,
   "metadata": {},
   "outputs": [
    {
     "name": "stdout",
     "output_type": "stream",
     "text": [
      "Missing values in each column:\n",
      " Series([], dtype: int64)\n"
     ]
    }
   ],
   "source": [
    "missing_values = data.isnull().sum()\n",
    "print(\"Missing values in each column:\\n\", missing_values[missing_values > 0]) "
   ]
  },
  {
   "cell_type": "markdown",
   "metadata": {},
   "source": [
    "**Visualize the distribution of the target variable (Transition)**"
   ]
  },
  {
   "cell_type": "code",
   "execution_count": 4,
   "metadata": {},
   "outputs": [
    {
     "name": "stderr",
     "output_type": "stream",
     "text": [
      "/tmp/ipykernel_15229/1515248035.py:2: FutureWarning: \n",
      "\n",
      "Passing `palette` without assigning `hue` is deprecated and will be removed in v0.14.0. Assign the `y` variable to `hue` and set `legend=False` for the same effect.\n",
      "\n",
      "  sns.countplot(data['Transition'], palette='coolwarm')\n"
     ]
    },
    {
     "data": {
      "image/png": "[encoded data removed]",
      "text/plain": [
       "<Figure size 1000x600 with 1 Axes>"
      ]
     },
     "metadata": {},
     "output_type": "display_data"
    }
   ],
   "source": [
    "plt.figure(figsize=(10,6))\n",
    "sns.countplot(data['Transition'], palette='coolwarm')\n",
    "plt.title('Distribution of Cognitive Status Transitions', fontsize=16)\n",
    "plt.xlabel('Transition', fontsize=12)\n",
    "plt.ylabel('Count', fontsize=12)\n",
    "plt.xticks(rotation=45)\n",
    "plt.show()"
   ]
  },
  {
   "cell_type": "markdown",
   "metadata": {},
   "source": [
    "**Inspect the dataset's basic statistics**"
   ]
  },
  {
   "cell_type": "code",
   "execution_count": 5,
   "metadata": {},
   "outputs": [
    {
     "name": "stdout",
     "output_type": "stream",
     "text": [
      "Dataset basic statistics:\n",
      "\n",
      "       diagnostics_Image-original_Dimensionality  \\\n",
      "count                                      305.0   \n",
      "mean                                         3.0   \n",
      "std                                          0.0   \n",
      "min                                          3.0   \n",
      "25%                                          3.0   \n",
      "50%                                          3.0   \n",
      "75%                                          3.0   \n",
      "max                                          3.0   \n",
      "\n",
      "       diagnostics_Image-original_Mean  diagnostics_Image-original_Minimum  \\\n",
      "count                       305.000000                               305.0   \n",
      "mean                          5.810469                                 0.0   \n",
      "std                           0.613858                                 0.0   \n",
      "min                           4.321602                                 0.0   \n",
      "25%                           5.317298                                 0.0   \n",
      "50%                           5.811449                                 0.0   \n",
      "75%                           6.237751                                 0.0   \n",
      "max                           7.583210                                 0.0   \n",
      "\n",
      "       diagnostics_Image-original_Maximum  diagnostics_Mask-original_VoxelNum  \\\n",
      "count                          305.000000                          305.000000   \n",
      "mean                           173.504918                         6714.790164   \n",
      "std                             24.108871                         1066.815670   \n",
      "min                            128.000000                         3609.000000   \n",
      "25%                            157.000000                         5941.000000   \n",
      "50%                            172.000000                         6723.000000   \n",
      "75%                            190.000000                         7396.000000   \n",
      "max                            255.000000                         9453.000000   \n",
      "\n",
      "       diagnostics_Mask-original_VolumeNum  original_shape_Elongation  \\\n",
      "count                                305.0                 305.000000   \n",
      "mean                                   2.0                   0.411819   \n",
      "std                                    0.0                   0.028993   \n",
      "min                                    2.0                   0.330890   \n",
      "25%                                    2.0                   0.392944   \n",
      "50%                                    2.0                   0.412479   \n",
      "75%                                    2.0                   0.431621   \n",
      "max                                    2.0                   0.491496   \n",
      "\n",
      "       original_shape_Flatness  original_shape_LeastAxisLength  \\\n",
      "count               305.000000                      305.000000   \n",
      "mean                  0.096916                       10.137707   \n",
      "std                   0.009739                        0.911329   \n",
      "min                   0.075142                        8.420713   \n",
      "25%                   0.089977                        9.525253   \n",
      "50%                   0.096609                       10.106838   \n",
      "75%                   0.102240                       10.635093   \n",
      "max                   0.144082                       14.370911   \n",
      "\n",
      "       original_shape_MajorAxisLength  ...  lbp-3D-k_glszm_ZoneEntropy  \\\n",
      "count                      305.000000  ...                  305.000000   \n",
      "mean                       104.883349  ...                    2.681657   \n",
      "std                          6.180335  ...                    0.259507   \n",
      "min                         90.675836  ...                    1.984788   \n",
      "25%                        100.501871  ...                    2.507947   \n",
      "50%                        104.370667  ...                    2.688709   \n",
      "75%                        108.677326  ...                    2.844025   \n",
      "max                        126.209296  ...                    3.494062   \n",
      "\n",
      "       lbp-3D-k_glszm_ZonePercentage  lbp-3D-k_glszm_ZoneVariance  \\\n",
      "count                     305.000000                   305.000000   \n",
      "mean                        0.010477                266015.006289   \n",
      "std                         0.002009                 59267.210682   \n",
      "min                         0.005818                138177.996378   \n",
      "25%                         0.009060                225781.559367   \n",
      "50%                         0.010580                259226.493061   \n",
      "75%                         0.011706                298836.166667   \n",
      "max                         0.017015                465865.829238   \n",
      "\n",
      "       lbp-3D-k_ngtdm_Busyness  lbp-3D-k_ngtdm_Coarseness  \\\n",
      "count               305.000000                 305.000000   \n",
      "mean                362.064990                   0.002024   \n",
      "std                 102.133366                   0.000531   \n",
      "min                 130.618182                   0.001137   \n",
      "25%                 285.617369                   0.001632   \n",
      "50%                 353.841144                   0.001934   \n",
      "75%                 431.288497                   0.002305   \n",
      "max                 670.406531                   0.004325   \n",
      "\n",
      "       lbp-3D-k_ngtdm_Complexity  lbp-3D-k_ngtdm_Contrast  \\\n",
      "count                 305.000000               305.000000   \n",
      "mean                    0.155767                 0.012415   \n",
      "std                     0.024285                 0.003814   \n",
      "min                     0.071124                 0.002565   \n",
      "25%                     0.140791                 0.009751   \n",
      "50%                     0.156580                 0.012297   \n",
      "75%                     0.173700                 0.015166   \n",
      "max                     0.223273                 0.024548   \n",
      "\n",
      "       lbp-3D-k_ngtdm_Strength         Sex         Age  \n",
      "count               305.000000  305.000000  305.000000  \n",
      "mean                  0.002091    0.567213   75.171148  \n",
      "std                   0.000552    0.496276    6.675866  \n",
      "min                   0.001168    0.000000   55.300000  \n",
      "25%                   0.001688    0.000000   71.300000  \n",
      "50%                   0.001995    1.000000   75.000000  \n",
      "75%                   0.002373    1.000000   79.900000  \n",
      "max                   0.004417    1.000000   91.000000  \n",
      "\n",
      "[8 rows x 2161 columns]\n"
     ]
    }
   ],
   "source": [
    "print(\"Dataset basic statistics:\\n\")\n",
    "print(data.describe())"
   ]
  },
  {
   "cell_type": "markdown",
   "metadata": {},
   "source": [
    "**Additional info on data types and other attributes**"
   ]
  },
  {
   "cell_type": "code",
   "execution_count": 6,
   "metadata": {},
   "outputs": [
    {
     "name": "stdout",
     "output_type": "stream",
     "text": [
      "\n",
      "Dataset information:\n",
      "<class 'pandas.core.frame.DataFrame'>\n",
      "RangeIndex: 305 entries, 0 to 304\n",
      "Columns: 2181 entries, ID to Transition\n",
      "dtypes: float64(2014), int64(147), object(20)\n",
      "memory usage: 5.1+ MB\n"
     ]
    }
   ],
   "source": [
    "print(\"\\nDataset information:\")\n",
    "data.info()"
   ]
  }
 ],
 "metadata": {
  "kernelspec": {
   "display_name": "DAA",
   "language": "python",
   "name": "python3"
  },
  "language_info": {
   "codemirror_mode": {
    "name": "ipython",
    "version": 3
   },
   "file_extension": ".py",
   "mimetype": "text/x-python",
   "name": "python",
   "nbconvert_exporter": "python",
   "pygments_lexer": "ipython3",
   "version": "3.12.4"
  }
 },
 "nbformat": 4,
 "nbformat_minor": 2
}
